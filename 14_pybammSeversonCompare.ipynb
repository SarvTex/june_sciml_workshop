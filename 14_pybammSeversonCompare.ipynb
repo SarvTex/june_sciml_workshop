{
 "cells": [
  {
   "cell_type": "markdown",
   "id": "c59faf0d",
   "metadata": {},
   "source": [
    "## Validate PyBaMM with real results.\n",
    "\n",
    "In this example, we compare PyBaMM results with real measurements. Specifically, the Severson measurements."
   ]
  },
  {
   "cell_type": "code",
   "execution_count": null,
   "id": "7fa0168c",
   "metadata": {},
   "outputs": [],
   "source": [
    "# importing basic libs\n",
    "import os\n",
    "import sys\n",
    "\n",
    "# setting up code to run in google colab\n",
    "git_repo_url = \"https://github.com/SarvTex/june_sciml_workshop.git\"\n",
    "repo_name = \"june_sciml_workshop\"\n",
    "\n",
    "if 'google.colab' in sys.modules:\n",
    "    # Google colab setup\n",
    "    print(\"> Code running in Colab env ===\")\n",
    "\n",
    "    if not repo_name in os.getcwd().split(os.sep) and not repo_name in os.listdir():\n",
    "        print(\"> Cloning repo (dataset) ===\")\n",
    "        !git clone {git_repo_url}\n",
    "    else:\n",
    "      print(\"> Repo already cloned ===\")\n",
    "\n",
    "    if repo_name in os.listdir():\n",
    "        os.chdir(repo_name)\n",
    "    print(f\"> Currently in correct folder ({os.getcwd()}) ===\")\n",
    "\n",
    "else:\n",
    "    # Running locally setup\n",
    "    print(\"> Running locally. Assuming correct folder structure ===\")\n",
    "\n",
    "!ls"
   ]
  },
  {
   "cell_type": "code",
   "execution_count": null,
   "id": "29190812",
   "metadata": {},
   "outputs": [],
   "source": [
    "import pickle\n"
   ]
  }
 ],
 "metadata": {
  "kernelspec": {
   "display_name": "pybamm_env",
   "language": "python",
   "name": "python3"
  },
  "language_info": {
   "name": "python",
   "version": "3.11.13"
  }
 },
 "nbformat": 4,
 "nbformat_minor": 5
}
