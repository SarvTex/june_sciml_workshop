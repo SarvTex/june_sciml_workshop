{
 "cells": [
  {
   "cell_type": "markdown",
   "id": "82b612cd",
   "metadata": {},
   "source": [
    "# Universal differential equations\n",
    "\n",
    "Esse notebook é uma demonstração de 'Universal differential equations' (UDE) usando modelos de circuitos equivalentes e PyBaMM. Uma UDE é uma equação diferencial definito, por todo ou em parte, em função de \"aproximadores universais\" (redes-neurais nesse caso). \n",
    "\n",
    "Na prática, são sistema físicos, descritos por equações diferenciais, onde um dos componentes é uma rede neural[1]. Exemplo: $$\\frac{\\partial u}{\\partial t} = f(x,u,t) + \\mathcal{NN}(x,u)$$\n",
    "\n",
    "Vantagem dessa implementação: $f(\\cdot)$ pode ser um modelo físico simplificado (*reduced order*) que retorna uma mera aproximação do resultado real. Nesse caso, a rede neural $\\mathcal{NN}$ pode ser menor, mais simples, responsável somente por corrigir o erro, a divergência.\n",
    "\n",
    "---\n",
    "1. Rackauckas et al 2021 (https://doi.org/10.48550/arXiv.2001.04385)."
   ]
  },
  {
   "cell_type": "markdown",
   "id": "f5a51691",
   "metadata": {},
   "source": [
    "## Exemplo Neural-TECMD\n",
    "O melhor exemplo, com código open-source disponível online, vem de Kuzhiyil et al, 2024 [2, 3]. O software é implementado em Julia, consegui faze-lo rodar localmente, mas não no Google Colab. Vou demonstrar abaixo a lógica básica do programa e o output do código -- não será possível executar localmente agora.\n",
    "\n",
    "O artigo descreve o processo de combinar modelo  *Thermal Equivalent Circuit Model with Diffusion* (TECMD) -- um dos modelos do tipo ECM mais sofisticados -- com duas redes neurais que corrigem o erro de temperatura e tensão. Na figura abaixo, blocos pretos representam modelos físicos-matemáticos, blocos laranjas representam redes neurais.\n",
    "\n",
    "![test](imgs/neural_tecmd_kuzhiyil.jpg)\n",
    "\n",
    "O modelo conseguiu obter reduções de erro significativo, enquanto preserva performance.\n",
    "\n",
    "A figura abaixo demonstra a comparação entre dados experimentais, e os resultados da simulação com e sem redes-neurais auxiliares.\n",
    "\n",
    "![test](imgs/neural_tecmd_plot.png)\n",
    "\n",
    "---\n",
    "2. Kuzhiyil et al 2024 (https://doi.org/10.1016/j.apenergy.2024.123692)\n",
    "3. https://github.com/JishnuKuzhiyil/Neural-TECMD-Battery-model"
   ]
  },
  {
   "cell_type": "markdown",
   "id": "cc42b792",
   "metadata": {},
   "source": [
    "## Usando PyBaMM\n",
    "\n",
    "Python Battery Mathematical Modelling (PyBaMM) é um pacote de Python open-source para simulação eletroquímica de baterias."
   ]
  },
  {
   "cell_type": "code",
   "execution_count": null,
   "id": "e487c35e",
   "metadata": {
    "vscode": {
     "languageId": "plaintext"
    }
   },
   "outputs": [],
   "source": [
    "# importing basic libs\n",
    "import os\n",
    "import sys\n",
    "\n",
    "# setting up code to run in google colab\n",
    "git_repo_url = \"https://github.com/SarvTex/june_sciml_workshop.git\"\n",
    "repo_name = \"june_sciml_workshop\"\n",
    "\n",
    "if 'google.colab' in sys.modules:\n",
    "    # Google colab setup\n",
    "    print(\"> Code running in Colab env ===\")\n",
    "\n",
    "    if not repo_name in os.getcwd().split(os.sep) and not repo_name in os.listdir():\n",
    "        print(\"> Cloning repo (dataset) ===\")\n",
    "        !git clone {git_repo_url}\n",
    "    else:\n",
    "      print(\"> Repo already cloned ===\")\n",
    "\n",
    "    if repo_name in os.listdir():\n",
    "        os.chdir(repo_name)\n",
    "    print(f\"> Currently in correct folder ({os.getcwd()}) ===\")\n",
    "\n",
    "else:\n",
    "    # Running locally setup\n",
    "    print(\"> Running locally. Assuming correct folder structure ===\")\n",
    "\n",
    "!ls"
   ]
  }
 ],
 "metadata": {
  "language_info": {
   "name": "python"
  }
 },
 "nbformat": 4,
 "nbformat_minor": 5
}
