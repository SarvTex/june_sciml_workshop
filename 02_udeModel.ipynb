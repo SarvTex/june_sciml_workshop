{
 "cells": [
  {
   "cell_type": "markdown",
   "id": "82b612cd",
   "metadata": {},
   "source": [
    "# Universal differential equations\n",
    "\n",
    "A little bit of text right here. And such."
   ]
  },
  {
   "cell_type": "code",
   "execution_count": null,
   "id": "31eda5c7",
   "metadata": {
    "vscode": {
     "languageId": "plaintext"
    }
   },
   "outputs": [],
   "source": [
    "# importing basic libs\n",
    "import os\n",
    "import sys"
   ]
  },
  {
   "cell_type": "code",
   "execution_count": null,
   "id": "e487c35e",
   "metadata": {
    "vscode": {
     "languageId": "plaintext"
    }
   },
   "outputs": [],
   "source": [
    "# setting up code to run in google colab\n",
    "git_repo_url = \"https://github.com/SarvTex/june_sciml_workshop.git\"\n",
    "repo_name = \"june_sciml_workshop\"\n",
    "\n",
    "if 'google.colab' in sys.modules:\n",
    "    # Google colab setup\n",
    "    print(\"> Code running in Colab env ===\")\n",
    "\n",
    "    if not repo_name in os.getcwd().split(os.sep) and not repo_name in os.listdir():\n",
    "        print(\"> Cloning repo (dataset) ===\")\n",
    "        !git clone {git_repo_url}\n",
    "    else:\n",
    "      print(\"> Repo already cloned ===\")\n",
    "\n",
    "    if repo_name in os.listdir():\n",
    "        os.chdir(repo_name)\n",
    "    print(f\"> Currently in correct folder ({os.getcwd()}) ===\")\n",
    "\n",
    "else:\n",
    "    # Running locally setup\n",
    "    print(\"> Running locally. Assuming correct folder structure ===\")\n",
    "\n",
    "!ls"
   ]
  }
 ],
 "metadata": {
  "language_info": {
   "name": "python"
  }
 },
 "nbformat": 4,
 "nbformat_minor": 5
}
