{
  "cells": [
    {
      "cell_type": "markdown",
      "id": "82b612cd",
      "metadata": {
        "id": "82b612cd"
      },
      "source": [
        "# Universal differential equations\n",
        "\n",
        "Esse notebook é uma demonstração de 'Universal differential equations' (UDE) usando modelos de circuitos equivalentes e PyBaMM. Uma UDE é uma equação diferencial definito, por todo ou em parte, em função de \"aproximadores universais\" (redes-neurais nesse caso).\n",
        "\n",
        "Na prática, são sistema físicos, descritos por equações diferenciais, onde um dos componentes é uma rede neural[1]. Exemplo: $$\\frac{\\partial u}{\\partial t} = f(x,u,t) + \\mathcal{NN}(x,u)$$\n",
        "\n",
        "Vantagem dessa implementação: $f(\\cdot)$ pode ser um modelo físico simplificado (*reduced order*) que retorna uma mera aproximação do resultado real. Nesse caso, a rede neural $\\mathcal{NN}$ pode ser menor, mais simples, responsável somente por corrigir o erro, a divergência.\n",
        "\n",
        "---\n",
        "1. Rackauckas et al 2021 (https://doi.org/10.48550/arXiv.2001.04385)."
      ]
    },
    {
      "cell_type": "markdown",
      "id": "f5a51691",
      "metadata": {
        "id": "f5a51691"
      },
      "source": [
        "## Exemplo Neural-TECMD\n",
        "O melhor exemplo, com código open-source disponível online, vem de Kuzhiyil et al, 2024 [2, 3]. O software é implementado em Julia, consegui faze-lo rodar localmente, mas não no Google Colab. Vou demonstrar abaixo a lógica básica do programa e o output do código -- não será possível executar localmente agora.\n",
        "\n",
        "O artigo descreve o processo de combinar modelo  *Thermal Equivalent Circuit Model with Diffusion* (TECMD) -- um dos modelos do tipo ECM mais sofisticados -- com duas redes neurais que corrigem o erro de temperatura e tensão. Na figura abaixo, blocos pretos representam modelos físicos-matemáticos, blocos laranjas representam redes neurais.\n",
        "\n",
        "![test](https://github.com/SarvTex/june_sciml_workshop/blob/main/imgs/neural_tecmd_kuzhiyil.jpg?raw=1)\n",
        "\n",
        "O modelo conseguiu obter reduções de erro significativo, enquanto preserva performance.\n",
        "\n",
        "A figura abaixo demonstra a comparação entre dados experimentais, e os resultados da simulação com e sem redes-neurais auxiliares.\n",
        "\n",
        "![test](https://github.com/SarvTex/june_sciml_workshop/blob/main/imgs/neural_tecmd_plot.png?raw=1)\n",
        "\n",
        "---\n",
        "2. Kuzhiyil et al 2024 (https://doi.org/10.1016/j.apenergy.2024.123692)\n",
        "3. https://github.com/JishnuKuzhiyil/Neural-TECMD-Battery-model"
      ]
    },
    {
      "cell_type": "markdown",
      "id": "cc42b792",
      "metadata": {
        "id": "cc42b792"
      },
      "source": [
        "## Usando PyBaMM\n",
        "\n",
        "Python Battery Mathematical Modelling (PyBaMM) é um pacote de Python open-source para simulação eletroquímica de baterias -- tipicamente a classe de modelos mais sofisticada e completa. Essa é uma ferramenta potencialmente muito útil dado nosso interesse em avaliação e diagnóstico de baterias por meio de modelos de simulação.\n",
        "\n",
        "Durante essa demonstração inicial, vamos comparar um modelo ECM básico com o modelo eletroquímico DFN do PyBaMM.\n",
        "\n",
        "#### Inicialização Colab\n",
        "Caso esse notebook esteja sendo executado pelo Google Colab, algumas modificações tem que ser feitos. O bloco abaixo reorganiza esses aspectos."
      ]
    },
    {
      "cell_type": "code",
      "execution_count": 1,
      "id": "e487c35e",
      "metadata": {
        "id": "e487c35e",
        "outputId": "0f702dd4-692f-4b49-943a-cd141b2fabd7",
        "colab": {
          "base_uri": "https://localhost:8080/"
        }
      },
      "outputs": [
        {
          "output_type": "stream",
          "name": "stdout",
          "text": [
            "> Code running in Colab env ===\n",
            "> Cloning repo (dataset) ===\n",
            "Cloning into 'june_sciml_workshop'...\n",
            "remote: Enumerating objects: 448, done.\u001b[K\n",
            "remote: Counting objects: 100% (448/448), done.\u001b[K\n",
            "remote: Compressing objects: 100% (434/434), done.\u001b[K\n",
            "remote: Total 448 (delta 18), reused 439 (delta 11), pack-reused 0 (from 0)\u001b[K\n",
            "Receiving objects: 100% (448/448), 37.76 MiB | 10.29 MiB/s, done.\n",
            "Resolving deltas: 100% (18/18), done.\n",
            "Updating files: 100% (398/398), done.\n",
            "> Currently in correct folder (/content/june_sciml_workshop) ===\n",
            "01_pinnModel.ipynb\t\t   data\t\t       imgs\n",
            "02_udeModel.ipynb\t\t   enviroment.yml      README.md\n",
            "03_physicsFeature_synthData.ipynb  explore_data.ipynb  test.ipynb\n"
          ]
        }
      ],
      "source": [
        "# importing basic libs\n",
        "import os\n",
        "import sys\n",
        "\n",
        "# setting up code to run in google colab\n",
        "git_repo_url = \"https://github.com/SarvTex/june_sciml_workshop.git\"\n",
        "repo_name = \"june_sciml_workshop\"\n",
        "\n",
        "if 'google.colab' in sys.modules:\n",
        "    # Google colab setup\n",
        "    print(\"> Code running in Colab env ===\")\n",
        "\n",
        "    if not repo_name in os.getcwd().split(os.sep) and not repo_name in os.listdir():\n",
        "        print(\"> Cloning repo (dataset) ===\")\n",
        "        !git clone {git_repo_url}\n",
        "    else:\n",
        "      print(\"> Repo already cloned ===\")\n",
        "\n",
        "    if repo_name in os.listdir():\n",
        "        os.chdir(repo_name)\n",
        "    print(f\"> Currently in correct folder ({os.getcwd()}) ===\")\n",
        "\n",
        "else:\n",
        "    # Running locally setup\n",
        "    print(\"> Running locally. Assuming correct folder structure ===\")\n",
        "\n",
        "!ls"
      ]
    },
    {
      "cell_type": "code",
      "execution_count": 2,
      "id": "a140b621",
      "metadata": {
        "id": "a140b621"
      },
      "outputs": [],
      "source": [
        "import numpy as np\n",
        "import pandas as pd\n",
        "import tensorflow as tf\n",
        "import matplotlib.pyplot as plt"
      ]
    },
    {
      "cell_type": "code",
      "source": [
        "x = tf.zeros([2,2], dtype=tf.float32)\n",
        "print(type(x))\n",
        "print(x)"
      ],
      "metadata": {
        "id": "U6AL_UDdyu9p",
        "outputId": "25e0a86b-8750-44b0-9b12-512d6883bf1c",
        "colab": {
          "base_uri": "https://localhost:8080/"
        }
      },
      "id": "U6AL_UDdyu9p",
      "execution_count": 10,
      "outputs": [
        {
          "output_type": "stream",
          "name": "stdout",
          "text": [
            "<class 'tensorflow.python.framework.ops.EagerTensor'>\n",
            "tf.Tensor(\n",
            "[[0. 0.]\n",
            " [0. 0.]], shape=(2, 2), dtype=float32)\n"
          ]
        }
      ]
    },
    {
      "cell_type": "code",
      "source": [
        "class SimpleEquivalentCircuitModel(tf.keras.layers.Layer):\n",
        "    \"\"\"\n",
        "    These are the model inputs:\n",
        "        U_max | Max voltage\n",
        "        U_min | Min voltage\n",
        "        Ro | Internal resistance Ro\n",
        "        ecm_nn | The neural net for correcting the physical model (pre-trained)\n",
        "        soc_0 = 0.95, | Initial state of charge\n",
        "        time_step = 10, | Time step\n",
        "        units = 3, | Number of outputs/inner states\n",
        "    \"\"\"\n",
        "\n",
        "    def __init__(self,\n",
        "                 U_max:np.float32,\n",
        "                 U_min:np.float32,\n",
        "                 Ro:np.float32,\n",
        "                 capacity:np.float32,\n",
        "                 ecm_nn,\n",
        "                 soc_0 = 0.95,\n",
        "                 time_step = 10,\n",
        "                 units = 2,\n",
        "                 **kwargs):\n",
        "        super(SimpleEquivalentCircuitModel, self).__init__(**kwargs)\n",
        "        self.U0 = 0.5 * (U_max + U_min)\n",
        "        self.dU = 0.5 * (U_max - U_min) * 0.2175\n",
        "        self.Ro = Ro\n",
        "        self.capacity = capacity\n",
        "        self.soc_0 = soc_0\n",
        "        self.dt = time_step\n",
        "        self.ecm_nnet = ecm_nn\n",
        "        # units\n",
        "        self.state_size = tf.TensorShape(units)\n",
        "        self.output_size = tf.TensorShape(units)\n",
        "\n",
        "    def build(self, input_shape, **kwargs):\n",
        "        self.built = True\n",
        "\n",
        "    def v_out_phys(self, x_t):\n",
        "        # x_t: inputs & state concat\n",
        "        # x_t features: (curr, temp, v_out, soc)\n",
        "        return self.U0 + self.dU * tf.math.log(x_t[:,3]/(1-x_t[:,3])) - self.Ro * x_t[:,0]\n",
        "\n",
        "    def soc_phys(self, x_t):\n",
        "        # coulomb counting:\n",
        "        # dSoc/dt = -I/3600/C\n",
        "        # x_t features: (curr, temp, v_out, soc)\n",
        "        return x_t[:,3] - x_t[:,0] * self.dt / (3600 * self.capacity)\n",
        "\n",
        "\n",
        "    def call(self, inputs, states):\n",
        "        # input_t and output_{t-1}\n",
        "        inputs = tf.convert_to_tensor(inputs) # should be a (x,2) tensor: [0] = current, [1] = temperature\n",
        "        out_m1 = tf.convert_to_tensor(states) # should be a (x,2) tensor: [0] = v_out, [1] = soc\n",
        "        x_t = tf.concat((inputs, out_m1[0,:]), axis=1)\n",
        "\n",
        "        out = tf.stack([\n",
        "            self.v_ocv_phys(x_t),\n",
        "            self.soc_phys(x_t)\n",
        "        ])\n",
        "        out = out - self.ecm_nnet(x_t)\n",
        "        return out, [out]\n"
      ],
      "metadata": {
        "id": "oTTIiPFYwjE8"
      },
      "id": "oTTIiPFYwjE8",
      "execution_count": 36,
      "outputs": []
    },
    {
      "cell_type": "markdown",
      "source": [
        "#### Explain\n",
        "\n",
        "```python\n",
        "    def call(self, inputs, states):\n",
        "        # input_t and output_{t-1}\n",
        "        inputs = tf.convert_to_tensor(inputs) # should be a (x,2) tensor: [0] = current, [1] = temperature\n",
        "        out_m1 = tf.convert_to_tensor(states) # should be a (x,3) tensor: [0] = v_out, [1] = soc, [2] = v_rc\n",
        "        x_t = tf.concat((inputs, out_m1[0,:]), axis=1)\n",
        "```\n",
        "Note: input should be a (x,2) tensor and states should be a list\n",
        "which gets converted to a (1,x,3) tensor by the convert_to_tensor\n",
        "method, hence this line"
      ],
      "metadata": {
        "id": "hAUrASMp4d1l"
      },
      "id": "hAUrASMp4d1l"
    },
    {
      "cell_type": "code",
      "execution_count": null,
      "id": "78a66da5",
      "metadata": {
        "id": "78a66da5",
        "outputId": "36d3b199-21ed-420e-e67e-09802ad353ef"
      },
      "outputs": [
        {
          "data": {
            "image/png": "[encoded data removed]",
            "text/plain": [
              "<Figure size 640x480 with 1 Axes>"
            ]
          },
          "metadata": {},
          "output_type": "display_data"
        }
      ],
      "source": []
    },
    {
      "cell_type": "code",
      "execution_count": null,
      "id": "114729fe",
      "metadata": {
        "id": "114729fe",
        "outputId": "5aaa82a5-78cc-4a34-b884-1b8b2ce7879e"
      },
      "outputs": [
        {
          "data": {
            "text/plain": [
              "0.2176278563656148"
            ]
          },
          "execution_count": 14,
          "metadata": {},
          "output_type": "execute_result"
        }
      ],
      "source": [
        "1/4.595"
      ]
    },
    {
      "cell_type": "code",
      "execution_count": 35,
      "id": "e11670be",
      "metadata": {
        "id": "e11670be",
        "outputId": "b26052dd-51b0-4152-ba95-6704993a4fbd",
        "colab": {
          "base_uri": "https://localhost:8080/"
        }
      },
      "outputs": [
        {
          "output_type": "stream",
          "name": "stdout",
          "text": [
            "tf.Tensor([1. 2. 3.], shape=(3,), dtype=float32) tf.Tensor([4. 5. 6.], shape=(3,), dtype=float32)\n",
            "tf.Tensor([0.        0.6931472 1.0986123], shape=(3,), dtype=float32) \n",
            "\n",
            "\n",
            "tf.Tensor(\n",
            "[[1. 2. 3.]\n",
            " [4. 5. 6.]], shape=(2, 3), dtype=float32)\n"
          ]
        }
      ],
      "source": [
        "x1 = tf.convert_to_tensor([1,2,3], dtype=tf.float32)\n",
        "x2 = tf.convert_to_tensor([4,5,6], dtype=tf.float32)\n",
        "\n",
        "print(x1,x2)\n",
        "\n",
        "print(tf.math.log(x1), \"\\n\\n\")\n",
        "\n",
        "print(tf.stack((x1,x2)))"
      ]
    }
  ],
  "metadata": {
    "kernelspec": {
      "display_name": "wang24_pinn",
      "language": "python",
      "name": "python3"
    },
    "language_info": {
      "codemirror_mode": {
        "name": "ipython",
        "version": 3
      },
      "file_extension": ".py",
      "mimetype": "text/x-python",
      "name": "python",
      "nbconvert_exporter": "python",
      "pygments_lexer": "ipython3",
      "version": "3.7.12"
    },
    "colab": {
      "provenance": []
    }
  },
  "nbformat": 4,
  "nbformat_minor": 5
}