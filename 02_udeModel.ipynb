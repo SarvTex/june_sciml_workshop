{
 "cells": [
  {
   "cell_type": "markdown",
   "id": "82b612cd",
   "metadata": {},
   "source": [
    "# Universal differential equations\n",
    "\n",
    "A little bit of text right here. And such."
   ]
  }
 ],
 "metadata": {
  "language_info": {
   "name": "python"
  }
 },
 "nbformat": 4,
 "nbformat_minor": 5
}
