{
  "cells": [
    {
      "cell_type": "markdown",
      "id": "ba118cb6",
      "metadata": {
        "id": "ba118cb6"
      },
      "source": [
        "# Physics-informed neural network (PINN)\n",
        "This is a thing."
      ]
    },
    {
      "cell_type": "code",
      "source": [
        "# importing basic libs\n",
        "import os\n",
        "import sys"
      ],
      "metadata": {
        "id": "8pSmd4R1QdrK"
      },
      "id": "8pSmd4R1QdrK",
      "execution_count": 1,
      "outputs": []
    },
    {
      "cell_type": "code",
      "source": [
        "# setting up code to run in google colab\n",
        "git_repo_url = \"https://github.com/SarvTex/june_sciml_workshop.git\"\n",
        "repo_name = \"june_sciml_workshop\"\n",
        "\n",
        "if 'google.colab' in sys.modules:\n",
        "    # Google colab setup\n",
        "    print(\"> Code running in Colab env ===\")\n",
        "\n",
        "    if not repo_name in os.getcwd().split(os.sep) and not repo_name in os.listdir():\n",
        "        print(\"> Cloning repo (dataset) ===\")\n",
        "        !git clone {git_repo_url}\n",
        "    else:\n",
        "      print(\"> Repo already cloned ===\")\n",
        "\n",
        "    if repo_name in os.listdir():\n",
        "        os.chdir(repo_name)\n",
        "    print(f\"> Currently in correct folder ({os.getcwd()}) ===\")\n",
        "\n",
        "else:\n",
        "    # Running locally setup\n",
        "    print(\"> Running locally. Assuming correct folder structure ===\")\n",
        "\n",
        "!ls"
      ],
      "metadata": {
        "id": "eGwFEdmIOjAZ",
        "outputId": "11ae2bce-12c8-4626-f94f-ef28b97b66d6",
        "colab": {
          "base_uri": "https://localhost:8080/"
        }
      },
      "id": "eGwFEdmIOjAZ",
      "execution_count": 3,
      "outputs": [
        {
          "output_type": "stream",
          "name": "stdout",
          "text": [
            "> Code running in Colab env. ===\n",
            "> Repo already cloned ===\n",
            "> Currently in correct folder (/content/june_sciml_workshop) ===\n",
            "01_pinnModel.ipynb  03_physicsFeature_synthData.ipynb  test.ipynb\n",
            "02_udeModel.ipynb   README.md\n"
          ]
        }
      ]
    }
  ],
  "metadata": {
    "language_info": {
      "name": "python"
    },
    "colab": {
      "provenance": []
    },
    "kernelspec": {
      "name": "python3",
      "display_name": "Python 3"
    }
  },
  "nbformat": 4,
  "nbformat_minor": 5
}