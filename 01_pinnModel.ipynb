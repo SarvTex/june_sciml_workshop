{
  "cells": [
    {
      "cell_type": "markdown",
      "id": "ba118cb6",
      "metadata": {
        "id": "ba118cb6"
      },
      "source": [
        "# Physics-informed neural network (PINN)\n",
        "\n",
        "Às vezes o termo \"PINN\" é usado como um termo genérico representativo de toda a disciplina de modelos de rede-neural híbridos. No presente contexto dessa apresentação, PINN refere-se a redes neurais usadas para resolver equações diferenciais codificando as equações relevantes na '*loss function*' da rede neural.\n",
        "\n",
        "$$\\mathcal{L} = \\sum(y_i - \\hat{y}_i)^2 + \\alpha\\sum f_{phys}(x_i)$$"
      ]
    },
    {
      "cell_type": "code",
      "execution_count": null,
      "id": "eGwFEdmIOjAZ",
      "metadata": {
        "colab": {
          "base_uri": "https://localhost:8080/"
        },
        "id": "eGwFEdmIOjAZ",
        "outputId": "11ae2bce-12c8-4626-f94f-ef28b97b66d6"
      },
      "outputs": [
        {
          "name": "stdout",
          "output_type": "stream",
          "text": [
            "> Code running in Colab env. ===\n",
            "> Repo already cloned ===\n",
            "> Currently in correct folder (/content/june_sciml_workshop) ===\n",
            "01_pinnModel.ipynb  03_physicsFeature_synthData.ipynb  test.ipynb\n",
            "02_udeModel.ipynb   README.md\n"
          ]
        }
      ],
      "source": [
        "# importing basic libs\n",
        "import os\n",
        "import sys\n",
        "\n",
        "# setting up code to run in google colab\n",
        "git_repo_url = \"https://github.com/SarvTex/june_sciml_workshop.git\"\n",
        "repo_name = \"june_sciml_workshop\"\n",
        "\n",
        "if 'google.colab' in sys.modules:\n",
        "    # Google colab setup\n",
        "    print(\"> Code running in Colab env ===\")\n",
        "\n",
        "    if not repo_name in os.getcwd().split(os.sep) and not repo_name in os.listdir():\n",
        "        print(\"> Cloning repo (dataset) ===\")\n",
        "        !git clone {git_repo_url}\n",
        "    else:\n",
        "      print(\"> Repo already cloned ===\")\n",
        "\n",
        "    if repo_name in os.listdir():\n",
        "        os.chdir(repo_name)\n",
        "    print(f\"> Currently in correct folder ({os.getcwd()}) ===\")\n",
        "\n",
        "else:\n",
        "    # Running locally setup\n",
        "    print(\"> Running locally. Assuming correct folder structure ===\")\n",
        "\n",
        "!ls"
      ]
    },
    {
      "cell_type": "markdown",
      "id": "87c2efcf",
      "metadata": {},
      "source": [
        "### Modelo básico\n",
        "Modelo básico que resolve o seguinte sistema de equações:\n",
        "$$\\begin{align}\n",
        "y'(x) &= \\beta\\cdot y(x) \\\\\n",
        "y(0) &= 1\n",
        "\\end{align}$$"
      ]
    },
    {
      "cell_type": "code",
      "execution_count": null,
      "id": "833990a2",
      "metadata": {},
      "outputs": [],
      "source": [
        "# Import libs\n",
        "\n",
        "import matplotlib.pyplot as plt\n",
        "import numpy as np\n",
        "\n",
        "import torch\n",
        "import torch.nn as nn\n",
        "import torch.optim as optim"
      ]
    },
    {
      "cell_type": "code",
      "execution_count": null,
      "id": "5cb4c318",
      "metadata": {},
      "outputs": [],
      "source": [
        "# set up data\n",
        "x = torch.linspace(0, 1, 100, requires_grad=True).reshape(-1, 1)\n",
        "data_x = torch.tensor([0, 0.25, 0.5, 0.75, 1]).reshape(-1, 1)\n",
        "data_y = torch.exp(2 * data_x)\n",
        "data_y = data_y + torch.randn(data_x.shape) * 0.01\n",
        "data_y"
      ]
    },
    {
      "cell_type": "code",
      "execution_count": null,
      "id": "ea78c7ca",
      "metadata": {},
      "outputs": [],
      "source": [
        "# init model\n",
        "mlp = nn.Sequential(\n",
        "    nn.Linear(1, 10),\n",
        "    nn.Tanh(),\n",
        "    nn.Linear(10, 20),\n",
        "    nn.Tanh(),\n",
        "    nn.Linear(20, 1),\n",
        ")\n",
        "\n",
        "beta = torch.randn(1, requires_grad=True)\n",
        "beta"
      ]
    },
    {
      "cell_type": "code",
      "execution_count": null,
      "id": "6d968bb3",
      "metadata": {},
      "outputs": [],
      "source": [
        "optimizer = optim.Adam(list(mlp.parameters()) + [beta], lr=0.01)\n",
        "\n",
        "def dy_dx(y, x):\n",
        "    return torch.autograd.grad(\n",
        "        y, x, grad_outputs=torch.ones_like(y), create_graph=True\n",
        "    )[0]"
      ]
    },
    {
      "cell_type": "code",
      "execution_count": null,
      "id": "f6ff47b8",
      "metadata": {},
      "outputs": [],
      "source": [
        "# train loop\n",
        "losses = []\n",
        "\n",
        "for i in range(500):\n",
        "    y = mlp.forward(x)\n",
        "    y_p = dy_dx(y, x)\n",
        "\n",
        "    residual_ode = y_p - beta * y\n",
        "\n",
        "    residual_int = y[0] - 1\n",
        "\n",
        "    data_pred = mlp.forward(data_x)\n",
        "    residual_data = data_pred - data_y\n",
        "\n",
        "    loss = (residual_data**2).mean() + (residual_ode**2).mean() + residual_int**2\n",
        "\n",
        "    optimizer.zero_grad()\n",
        "    loss.backward()\n",
        "    optimizer.step()\n",
        "\n",
        "    losses.append(loss.detach().numpy()[0])\n",
        "\n",
        "    if i % 20 == 0:\n",
        "        print(\n",
        "            \"Epoch %3d: Current loss: %.2e \\t beta: %.2f\"\n",
        "            % (i, losses[-1], beta.detach().numpy()[0])\n",
        "        )"
      ]
    },
    {
      "cell_type": "code",
      "execution_count": null,
      "id": "5cb9573e",
      "metadata": {},
      "outputs": [],
      "source": [
        "x_test = torch.linspace(0, 1, 31).reshape(-1, 1)\n",
        "exact = torch.exp(2 * x_test)\n",
        "predict = mlp.forward(x_test).detach().numpy()\n",
        "error = exact - predict\n",
        "\n",
        "MAE = torch.abs(error).mean()\n",
        "\n",
        "print(\"Mean Absolute Error: %.2e\" % MAE)"
      ]
    },
    {
      "cell_type": "code",
      "execution_count": null,
      "id": "b23c7fd7",
      "metadata": {},
      "outputs": [],
      "source": [
        "# plot some figs\n",
        "fig, axs = plt.subplots(1, 3, figsize=(15, 5))\n",
        "\n",
        "axs[0].plot(x_test, exact, \"g-\", label=\"Exact\")\n",
        "axs[0].plot(x_test, predict, \"r.\", label=\"Predict\")\n",
        "\n",
        "axs[1].plot(x_test, error, \"b\", label=\"Residual\")\n",
        "\n",
        "axs[2].plot(np.log10(losses), \"c\", label=\"Loss\")\n",
        "\n",
        "for ax in axs:\n",
        "    ax.legend()"
      ]
    }
  ],
  "metadata": {
    "colab": {
      "provenance": []
    },
    "kernelspec": {
      "display_name": "Python 3",
      "name": "python3"
    },
    "language_info": {
      "name": "python"
    }
  },
  "nbformat": 4,
  "nbformat_minor": 5
}
