{
 "cells": [
  {
   "cell_type": "markdown",
   "id": "ba118cb6",
   "metadata": {},
   "source": [
    "# Physics-informed neural network (PINN)\n",
    "This is a thing."
   ]
  }
 ],
 "metadata": {
  "language_info": {
   "name": "python"
  }
 },
 "nbformat": 4,
 "nbformat_minor": 5
}
