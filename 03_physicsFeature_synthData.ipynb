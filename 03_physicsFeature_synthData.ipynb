{
 "cells": [
  {
   "cell_type": "markdown",
   "id": "2043d015",
   "metadata": {},
   "source": [
    "# Physics based features\n",
    "Give some example"
   ]
  },
  {
   "cell_type": "code",
   "execution_count": null,
   "id": "44780bdf",
   "metadata": {
    "vscode": {
     "languageId": "plaintext"
    }
   },
   "outputs": [],
   "source": [
    "# importing basic libs\n",
    "import os\n",
    "import sys"
   ]
  },
  {
   "cell_type": "code",
   "execution_count": null,
   "id": "cabbba97",
   "metadata": {
    "vscode": {
     "languageId": "plaintext"
    }
   },
   "outputs": [],
   "source": [
    "# setting up code to run in google colab\n",
    "git_repo_url = \"https://github.com/SarvTex/june_sciml_workshop.git\"\n",
    "repo_name = \"june_sciml_workshop\"\n",
    "\n",
    "if 'google.colab' in sys.modules:\n",
    "    # Google colab setup\n",
    "    print(\"> Code running in Colab env ===\")\n",
    "\n",
    "    if not repo_name in os.getcwd().split(os.sep) and not repo_name in os.listdir():\n",
    "        print(\"> Cloning repo (dataset) ===\")\n",
    "        !git clone {git_repo_url}\n",
    "    else:\n",
    "      print(\"> Repo already cloned ===\")\n",
    "\n",
    "    if repo_name in os.listdir():\n",
    "        os.chdir(repo_name)\n",
    "    print(f\"> Currently in correct folder ({os.getcwd()}) ===\")\n",
    "\n",
    "else:\n",
    "    # Running locally setup\n",
    "    print(\"> Running locally. Assuming correct folder structure ===\")\n",
    "\n",
    "!ls"
   ]
  },
  {
   "cell_type": "markdown",
   "id": "7db4bbf6",
   "metadata": {},
   "source": [
    "# Synthetic data\n",
    "Using PyBaMM"
   ]
  },
  {
   "cell_type": "code",
   "execution_count": null,
   "id": "83693f6a",
   "metadata": {
    "vscode": {
     "languageId": "plaintext"
    }
   },
   "outputs": [],
   "source": [
    "import pybamm"
   ]
  }
 ],
 "metadata": {
  "language_info": {
   "name": "python"
  }
 },
 "nbformat": 4,
 "nbformat_minor": 5
}
