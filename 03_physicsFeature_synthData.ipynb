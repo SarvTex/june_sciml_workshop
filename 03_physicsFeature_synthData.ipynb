{
 "cells": [
  {
   "cell_type": "markdown",
   "id": "2043d015",
   "metadata": {},
   "source": [
    "# Physics based features\n",
    "Give some example"
   ]
  },
  {
   "cell_type": "code",
   "execution_count": null,
   "id": "44780bdf",
   "metadata": {
    "vscode": {
     "languageId": "plaintext"
    }
   },
   "outputs": [],
   "source": [
    "# some code\n",
    "import numpy as np"
   ]
  },
  {
   "cell_type": "markdown",
   "id": "7db4bbf6",
   "metadata": {},
   "source": [
    "# Synthetic data\n",
    "Using PyBaMM"
   ]
  },
  {
   "cell_type": "code",
   "execution_count": null,
   "id": "83693f6a",
   "metadata": {
    "vscode": {
     "languageId": "plaintext"
    }
   },
   "outputs": [],
   "source": [
    "import pybamm"
   ]
  }
 ],
 "metadata": {
  "language_info": {
   "name": "python"
  }
 },
 "nbformat": 4,
 "nbformat_minor": 5
}
