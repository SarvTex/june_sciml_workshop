{
 "cells": [
  {
   "cell_type": "markdown",
   "id": "c4b9c395",
   "metadata": {},
   "source": [
    "## Pybamm aging experiment\n",
    "\n",
    "Experimento básico para demonstrar um pouco da simulação de envelhecimento no PyBaMM.\n",
    "\n",
    "Demonstração baseada no modelo de [O'Kane et al 2020](https://doi.org/10.1149/1945-7111/ab90ac). Mistura de modelos de degradação que interagem. Meu entedimento é que esses modelos e parametros são mais ilustrativos, não necessariamente refletem uma bateria real."
   ]
  },
  {
   "cell_type": "code",
   "execution_count": null,
   "id": "87e44916",
   "metadata": {
    "vscode": {
     "languageId": "plaintext"
    }
   },
   "outputs": [],
   "source": [
    "# model with options dict\n",
    "model = pybamm.lithium_ion.DFN(\n",
    "    {\n",
    "        \"SEI\": \"solvent-diffusion limited\",\n",
    "        \"SEI porosity change\": \"true\",\n",
    "        \"lithium plating\": \"partially reversible\",\n",
    "        \"lithium plating porosity change\": \"true\",  # alias for \"SEI porosity change\"\n",
    "        \"particle mechanics\": (\"swelling and cracking\", \"swelling only\"),\n",
    "        \"SEI on cracks\": \"true\",\n",
    "        \"loss of active material\": \"stress-driven\",\n",
    "    }\n",
    ")\n",
    "\n",
    "param = pybamm.ParameterValues(\"OKane2022\")"
   ]
  },
  {
   "cell_type": "code",
   "execution_count": null,
   "id": "3f261237",
   "metadata": {
    "vscode": {
     "languageId": "plaintext"
    }
   },
   "outputs": [],
   "source": [
    "cycle_number = 20\n",
    "exp = pybamm.Experiment(\n",
    "    [\n",
    "        \"Hold at 4.2 V until C/100 (5 minute period)\",\n",
    "        \"Rest for 4 hours (5 minute period)\",\n",
    "        \"Discharge at 0.1C until 2.5 V (5 minute period)\",  # initial capacity check\n",
    "        \"Charge at 0.3C until 4.2 V (5 minute period)\",\n",
    "        \"Hold at 4.2 V until C/100 (5 minute period)\",\n",
    "    ]\n",
    "    + [\n",
    "        (\n",
    "            \"Discharge at 1C until 2.5 V (1 minute period)\",  # ageing cycles\n",
    "            \"Charge at 0.3C until 4.2 V (5 minute period)\",\n",
    "            \"Hold at 4.2 V until C/100 (5 minute period)\",\n",
    "        )\n",
    "    ]\n",
    "    * cycle_number\n",
    "    + [\"Discharge at 0.1C until 2.5 V (5 minute period)\"],  # final capacity check\n",
    ")\n",
    "\n",
    "# solver -- lib usada p/ resolver eq. diferenciais\n",
    "solver = pybamm.IDAKLUSolver()\n",
    "sim = pybamm.Simulation(model, parameter_values=param, experiment=exp, solver=solver)\n",
    "sol = sim.solve()"
   ]
  },
  {
   "cell_type": "code",
   "execution_count": null,
   "id": "11ac2b0a",
   "metadata": {
    "vscode": {
     "languageId": "plaintext"
    }
   },
   "outputs": [],
   "source": [
    "Qt = sol[\"Throughput capacity [A.h]\"].entries\n",
    "Q_SEI = sol[\"Loss of capacity to negative SEI [A.h]\"].entries\n",
    "Q_SEI_cr = sol[\"Loss of capacity to negative SEI on cracks [A.h]\"].entries\n",
    "Q_plating = sol[\"Loss of capacity to negative lithium plating [A.h]\"].entries\n",
    "Q_side = sol[\"Total capacity lost to side reactions [A.h]\"].entries\n",
    "Q_LLI = (\n",
    "    sol[\"Total lithium lost [mol]\"].entries * 96485.3 / 3600\n",
    ")  # convert from mol to A.h\n",
    "plt.figure()\n",
    "plt.plot(Qt, Q_SEI, label=\"SEI\", linestyle=\"dashed\")\n",
    "plt.plot(Qt, Q_SEI_cr, label=\"SEI on cracks\", linestyle=\"dashdot\")\n",
    "plt.plot(Qt, Q_plating, label=\"Li plating\", linestyle=\"dotted\")\n",
    "plt.plot(Qt, Q_side, label=\"All side reactions\", linestyle=(0, (6, 1)))\n",
    "plt.plot(Qt, Q_LLI, label=\"All LLI\")\n",
    "plt.xlabel(\"Throughput capacity [A.h]\")\n",
    "plt.ylabel(\"Capacity loss [A.h]\")\n",
    "plt.legend()\n",
    "plt.show()"
   ]
  },
  {
   "cell_type": "code",
   "execution_count": null,
   "id": "f62cb5f7",
   "metadata": {
    "vscode": {
     "languageId": "plaintext"
    }
   },
   "outputs": [],
   "source": [
    "Qt = sol[\"Throughput capacity [A.h]\"].entries\n",
    "LLI = sol[\"Loss of lithium inventory [%]\"].entries\n",
    "LAM_neg = sol[\"Loss of active material in negative electrode [%]\"].entries\n",
    "LAM_pos = sol[\"Loss of active material in positive electrode [%]\"].entries\n",
    "plt.figure()\n",
    "plt.plot(Qt, LLI, label=\"LLI\")\n",
    "plt.plot(Qt, LAM_neg, label=\"LAM (negative)\")\n",
    "plt.plot(Qt, LAM_pos, label=\"LAM (positive)\")\n",
    "plt.xlabel(\"Throughput capacity [A.h]\")\n",
    "plt.ylabel(\"Degradation modes [%]\")\n",
    "plt.legend()\n",
    "plt.show()"
   ]
  },
  {
   "cell_type": "code",
   "execution_count": null,
   "id": "ce0f8730",
   "metadata": {
    "vscode": {
     "languageId": "plaintext"
    }
   },
   "outputs": [],
   "source": [
    "eps_neg_avg = sol[\"X-averaged negative electrode porosity\"].entries\n",
    "eps_neg_sep = sol[\"Negative electrode porosity\"].entries[-1, :]\n",
    "eps_neg_CC = sol[\"Negative electrode porosity\"].entries[0, :]\n",
    "plt.figure()\n",
    "plt.plot(Qt, eps_neg_avg, label=\"Average\")\n",
    "plt.plot(Qt, eps_neg_sep, label=\"Separator\", linestyle=\"dotted\")\n",
    "plt.plot(Qt, eps_neg_CC, label=\"Current collector\", linestyle=\"dashed\")\n",
    "plt.xlabel(\"Throughput capacity [A.h]\")\n",
    "plt.ylabel(\"Negative electrode porosity\")\n",
    "plt.legend()\n",
    "plt.show()"
   ]
  },
  {
   "cell_type": "code",
   "execution_count": null,
   "id": "cb855de5",
   "metadata": {
    "vscode": {
     "languageId": "plaintext"
    }
   },
   "outputs": [],
   "source": [
    "pybamm.print_citations()"
   ]
  }
 ],
 "metadata": {
  "language_info": {
   "name": "python"
  }
 },
 "nbformat": 4,
 "nbformat_minor": 5
}
