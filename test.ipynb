{
 "cells": [
  {
   "cell_type": "markdown",
   "id": "6b3dab77",
   "metadata": {},
   "source": [
    "# This is a notebook\n",
    "Just a test for now. Hey, wanna see an equation:\n",
    "$$y = f(x)$$\n",
    "\n",
    "Cool, right?"
   ]
  }
 ],
 "metadata": {
  "language_info": {
   "name": "python"
  }
 },
 "nbformat": 4,
 "nbformat_minor": 5
}
