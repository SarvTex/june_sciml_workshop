{
 "cells": [
  {
   "cell_type": "markdown",
   "id": "623704a5",
   "metadata": {},
   "source": [
    "## Pybamm compare models\n",
    "Comparação de modelos. Diferentes níveis de complexidade.\n",
    "- Single Particle Model (SPM)\n",
    "- Extended Single Particle Model (SPM-e)\n",
    "- Doyle Fuller Newman model (DFN)"
   ]
  },
  {
   "cell_type": "code",
   "execution_count": 2,
   "id": "2d0abc2f",
   "metadata": {},
   "outputs": [],
   "source": [
    "#!pip install \"pybamm[all]\" -q\n",
    "\n",
    "# import libs\n",
    "import pybamm\n",
    "import numpy as np\n",
    "import pandas as pd\n",
    "import matplotlib.pyplot as plt"
   ]
  },
  {
   "cell_type": "code",
   "execution_count": 3,
   "id": "8b52e098",
   "metadata": {},
   "outputs": [
    {
     "name": "stdout",
     "output_type": "stream",
     "text": [
      "EC initial concentration in electrolyte [mol.m-3]\t4541.0\n",
      "Electrolyte conductivity [S.m-1]\t<function electrolyte_conductivity_Nyman2008_arrhenius at 0x7fcb5da8e040>\n",
      "Electrolyte diffusivity [m2.s-1]\t<function electrolyte_diffusivity_Nyman2008_arrhenius at 0x7fcb5da7ff70>\n",
      "Initial concentration in electrolyte [mol.m-3]\t1000.0\n",
      "Negative electrode Bruggeman coefficient (electrolyte)\t1.5\n",
      "Positive electrode Bruggeman coefficient (electrolyte)\t1.5\n",
      "Separator Bruggeman coefficient (electrolyte)\t1.5\n",
      "\n",
      " ----- \n",
      "\n",
      "Lower voltage cut-off [V]\t2.5\n",
      "Open-circuit voltage at 0% SOC [V]\t2.5\n",
      "Open-circuit voltage at 100% SOC [V]\t4.2\n",
      "Upper voltage cut-off [V]\t4.2\n"
     ]
    }
   ],
   "source": [
    "param_values = pybamm.ParameterValues(\"OKane2022\")\n",
    "param_values.search(\"electrolyte\"); print(\"\\n ----- \\n\")\n",
    "param_values.search(\"voltage\")\n",
    "# print(\"\\n ----- \\n\")\n",
    "# print(param)\n",
    "\n",
    "upper_volt = param_values[\"Upper voltage cut-off [V]\"]\n",
    "lower_volt = param_values[\"Lower voltage cut-off [V]\"]"
   ]
  },
  {
   "cell_type": "code",
   "execution_count": null,
   "id": "52d86687",
   "metadata": {},
   "outputs": [
    {
     "name": "stderr",
     "output_type": "stream",
     "text": [
      "At t = 121.759 and h = 1.47965e-13, the corrector convergence failed repeatedly or with |h| = hmin.\n",
      "At t = 121.759 and h = 5.34207e-15, the corrector convergence failed repeatedly or with |h| = hmin.\n"
     ]
    },
    {
     "data": {
      "application/vnd.jupyter.widget-view+json": {
       "model_id": "6a0012834edf4787bdd001cc2b8f780a",
       "version_major": 2,
       "version_minor": 0
      },
      "text/plain": [
       "interactive(children=(FloatSlider(value=0.0, description='t', max=2853.1530244324263, step=28.531530244324262)…"
      ]
     },
     "metadata": {},
     "output_type": "display_data"
    },
    {
     "data": {
      "text/plain": [
       "<pybamm.plotting.quick_plot.QuickPlot at 0x7fcb4f53cb80>"
      ]
     },
     "execution_count": 12,
     "metadata": {},
     "output_type": "execute_result"
    }
   ],
   "source": [
    "# compare models\n",
    "models = [\n",
    "    pybamm.lithium_ion.SPM(),\n",
    "    pybamm.lithium_ion.SPMe(),\n",
    "    pybamm.lithium_ion.DFN(),\n",
    "]\n",
    "\n",
    "# set up experiment\n",
    "exp = pybamm.Experiment(\n",
    "    [\n",
    "        \"Rest for 10 minutes\",\n",
    "        f\"Discharge at 2.0C until {lower_volt} V\",\n",
    "        \"Rest for 10 minutes\",\n",
    "    ]\n",
    "  )\n",
    "\n",
    "sims = []\n",
    "for model in models:\n",
    "    sim = pybamm.Simulation(model, parameter_values=param_values, experiment=exp)\n",
    "    sim.solve(initial_soc=0.95)\n",
    "    sims.append(sim)\n",
    "\n",
    "pybamm.dynamic_plot(sims)"
   ]
  }
 ],
 "metadata": {
  "kernelspec": {
   "display_name": "tf_env",
   "language": "python",
   "name": "python3"
  },
  "language_info": {
   "codemirror_mode": {
    "name": "ipython",
    "version": 3
   },
   "file_extension": ".py",
   "mimetype": "text/x-python",
   "name": "python",
   "nbconvert_exporter": "python",
   "pygments_lexer": "ipython3",
   "version": "3.9.18"
  }
 },
 "nbformat": 4,
 "nbformat_minor": 5
}
