{
 "cells": [
  {
   "cell_type": "markdown",
   "id": "623704a5",
   "metadata": {},
   "source": [
    "## Pybamm compare models\n",
    "Comparação de modelos. Diferentes níveis de complexidade.\n",
    "- Single Particle Model (SPM)\n",
    "- Extended Single Particle Model (SPM-e)\n",
    "- Doyle Fuller Newman model (DFN)"
   ]
  },
  {
   "cell_type": "code",
   "execution_count": null,
   "id": "2d0abc2f",
   "metadata": {},
   "outputs": [
    {
     "ename": "",
     "evalue": "",
     "output_type": "error",
     "traceback": [
      "\u001b[1;31mThe kernel failed to start as a dll could not be loaded.\n",
      "\u001b[1;31mClick <a href='https://aka.ms/kernelFailuresDllLoad'>here</a> for more info."
     ]
    }
   ],
   "source": [
    "#!pip install \"pybamm[all]\" -q\n",
    "\n",
    "# import libs\n",
    "import pybamm\n",
    "import numpy as np\n",
    "import pandas as pd\n",
    "import matplotlib.pyplot as plt"
   ]
  },
  {
   "cell_type": "code",
   "execution_count": null,
   "id": "8b52e098",
   "metadata": {},
   "outputs": [
    {
     "ename": "",
     "evalue": "",
     "output_type": "error",
     "traceback": [
      "\u001b[1;31mThe kernel failed to start as a dll could not be loaded.\n",
      "\u001b[1;31mClick <a href='https://aka.ms/kernelFailuresDllLoad'>here</a> for more info."
     ]
    }
   ],
   "source": [
    "param_values = pybamm.ParameterValues(\"OKane2022\")\n",
    "param_values.search(\"electrolyte\"); print(\"\\n ----- \\n\")\n",
    "param_values.search(\"voltage\")\n",
    "# print(\"\\n ----- \\n\")\n",
    "# print(param)\n",
    "\n",
    "upper_volt = param_values[\"Upper voltage cut-off [V]\"]\n",
    "lower_volt = param_values[\"Lower voltage cut-off [V]\"]"
   ]
  },
  {
   "cell_type": "code",
   "execution_count": null,
   "id": "52d86687",
   "metadata": {},
   "outputs": [],
   "source": [
    "# compare models\n",
    "models = [\n",
    "    pybamm.lithium_ion.SPM(),\n",
    "    pybamm.lithium_ion.SPMe(),\n",
    "    pybamm.lithium_ion.DFN(),\n",
    "]\n",
    "\n",
    "# set up experiment\n",
    "exp = pybamm.Experiment(\n",
    "    [\n",
    "        f\"Charge at 1C until {upper_volt} V\",\n",
    "        f\"Hold at {upper_volt} V until C/20\",\n",
    "        \"Rest for 10 minutes\",\n",
    "        f\"Discharge at 2C until {lower_volt} V\",\n",
    "        \"Rest for 1 minutes\",\n",
    "    ]\n",
    "  )\n",
    "\n",
    "sims = []\n",
    "for model in models:\n",
    "    sim = pybamm.Simulation(model, parameter_values=param, experiment=exp)\n",
    "    sim.solve([0, 3600])\n",
    "    sims.append(sim)\n",
    "\n",
    "pybamm.dynamic_plot(sims)"
   ]
  }
 ],
 "metadata": {
  "kernelspec": {
   "display_name": "pybamm_env",
   "language": "python",
   "name": "python3"
  },
  "language_info": {
   "name": "python",
   "version": "3.11.12"
  }
 },
 "nbformat": 4,
 "nbformat_minor": 5
}
